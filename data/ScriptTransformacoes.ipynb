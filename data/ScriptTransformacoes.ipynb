{
 "cells": [
  {
   "cell_type": "code",
   "execution_count": 1,
   "id": "6812a215-9349-40f1-b630-a9aabb1f3090",
   "metadata": {
    "execution": {
     "iopub.execute_input": "2022-03-20T16:11:40.039194Z",
     "iopub.status.busy": "2022-03-20T16:11:40.038930Z",
     "iopub.status.idle": "2022-03-20T16:12:08.136292Z",
     "shell.execute_reply": "2022-03-20T16:12:08.135617Z",
     "shell.execute_reply.started": "2022-03-20T16:11:40.039166Z"
    }
   },
   "outputs": [
    {
     "data": {
      "application/vnd.jupyter.widget-view+json": {
       "model_id": "f2c5f0b169cc4f85b7d30936a6cf81f1",
       "version_major": 2,
       "version_minor": 0
      },
      "text/plain": [
       "VBox()"
      ]
     },
     "metadata": {},
     "output_type": "display_data"
    },
    {
     "name": "stdout",
     "output_type": "stream",
     "text": [
      "Starting Spark application\n"
     ]
    },
    {
     "data": {
      "text/html": [
       "<table>\n",
       "<tr><th>ID</th><th>YARN Application ID</th><th>Kind</th><th>State</th><th>Spark UI</th><th>Driver log</th><th>Current session?</th></tr><tr><td>0</td><td>application_1647791534314_0002</td><td>pyspark</td><td>idle</td><td><a target=\"_blank\" href=\"http://ip-172-31-71-241.ec2.internal:20888/proxy/application_1647791534314_0002/\" class=\"emr-proxy-link\" emr-resource=\"j-1OG50JAR68LEF\n",
       "\" application-id=\"application_1647791534314_0002\">Link</a></td><td><a target=\"_blank\" href=\"http://ip-172-31-73-152.ec2.internal:8042/node/containerlogs/container_1647791534314_0002_01_000001/livy\" >Link</a></td><td>✔</td></tr></table>"
      ],
      "text/plain": [
       "<IPython.core.display.HTML object>"
      ]
     },
     "metadata": {},
     "output_type": "display_data"
    },
    {
     "data": {
      "application/vnd.jupyter.widget-view+json": {
       "model_id": "",
       "version_major": 2,
       "version_minor": 0
      },
      "text/plain": [
       "FloatProgress(value=0.0, bar_style='info', description='Progress:', layout=Layout(height='25px', width='50%'),…"
      ]
     },
     "metadata": {},
     "output_type": "display_data"
    },
    {
     "name": "stdout",
     "output_type": "stream",
     "text": [
      "SparkSession available as 'spark'.\n"
     ]
    },
    {
     "data": {
      "application/vnd.jupyter.widget-view+json": {
       "model_id": "",
       "version_major": 2,
       "version_minor": 0
      },
      "text/plain": [
       "FloatProgress(value=0.0, bar_style='info', description='Progress:', layout=Layout(height='25px', width='50%'),…"
      ]
     },
     "metadata": {},
     "output_type": "display_data"
    }
   ],
   "source": [
    "import pyspark"
   ]
  },
  {
   "cell_type": "code",
   "execution_count": 2,
   "id": "5c5ff3ef-6ecd-43d2-a836-f9152d354ecd",
   "metadata": {
    "execution": {
     "iopub.execute_input": "2022-03-20T16:13:27.617495Z",
     "iopub.status.busy": "2022-03-20T16:13:27.617249Z",
     "iopub.status.idle": "2022-03-20T16:13:27.907205Z",
     "shell.execute_reply": "2022-03-20T16:13:27.906618Z",
     "shell.execute_reply.started": "2022-03-20T16:13:27.617470Z"
    }
   },
   "outputs": [
    {
     "data": {
      "application/vnd.jupyter.widget-view+json": {
       "model_id": "83ca33a5e2cf44f9ab7fd883ce774cdf",
       "version_major": 2,
       "version_minor": 0
      },
      "text/plain": [
       "VBox()"
      ]
     },
     "metadata": {},
     "output_type": "display_data"
    },
    {
     "data": {
      "application/vnd.jupyter.widget-view+json": {
       "model_id": "",
       "version_major": 2,
       "version_minor": 0
      },
      "text/plain": [
       "FloatProgress(value=0.0, bar_style='info', description='Progress:', layout=Layout(height='25px', width='50%'),…"
      ]
     },
     "metadata": {},
     "output_type": "display_data"
    }
   ],
   "source": [
    "from pyspark.sql import functions as f\n",
    "from pyspark.sql import SparkSession"
   ]
  },
  {
   "cell_type": "code",
   "execution_count": 3,
   "id": "cc726c24-6619-4aa7-8036-7a326b7f92a0",
   "metadata": {
    "execution": {
     "iopub.execute_input": "2022-03-20T16:27:24.895353Z",
     "iopub.status.busy": "2022-03-20T16:27:24.895105Z",
     "iopub.status.idle": "2022-03-20T16:33:09.593969Z",
     "shell.execute_reply": "2022-03-20T16:33:09.593249Z",
     "shell.execute_reply.started": "2022-03-20T16:27:24.895325Z"
    }
   },
   "outputs": [
    {
     "data": {
      "application/vnd.jupyter.widget-view+json": {
       "model_id": "99947ec5a4194702b3222b9d259267c6",
       "version_major": 2,
       "version_minor": 0
      },
      "text/plain": [
       "VBox()"
      ]
     },
     "metadata": {},
     "output_type": "display_data"
    },
    {
     "data": {
      "application/vnd.jupyter.widget-view+json": {
       "model_id": "",
       "version_major": 2,
       "version_minor": 0
      },
      "text/plain": [
       "FloatProgress(value=0.0, bar_style='info', description='Progress:', layout=Layout(height='25px', width='50%'),…"
      ]
     },
     "metadata": {},
     "output_type": "display_data"
    },
    {
     "name": "stdout",
     "output_type": "stream",
     "text": [
      "root\n",
      " |-- Bairros SP: string (nullable = true)\n",
      " |-- Bairros Fortaleza: string (nullable = true)\n",
      " |-- Bairros RJ: string (nullable = true)\n",
      " |-- Causa Afastamento 1: integer (nullable = true)\n",
      " |-- Causa Afastamento 2: integer (nullable = true)\n",
      " |-- Causa Afastamento 3: integer (nullable = true)\n",
      " |-- Motivo Desligamento: integer (nullable = true)\n",
      " |-- CBO Ocupação 2002: string (nullable = true)\n",
      " |-- CNAE 2.0 Classe: integer (nullable = true)\n",
      " |-- CNAE 95 Classe: integer (nullable = true)\n",
      " |-- Distritos SP: string (nullable = true)\n",
      " |-- Vínculo Ativo 31/12: integer (nullable = true)\n",
      " |-- Faixa Etária: integer (nullable = true)\n",
      " |-- Faixa Hora Contrat: integer (nullable = true)\n",
      " |-- Faixa Remun Dezem (SM): integer (nullable = true)\n",
      " |-- Faixa Remun Média (SM): integer (nullable = true)\n",
      " |-- Faixa Tempo Emprego: integer (nullable = true)\n",
      " |-- Escolaridade após 2005: double (nullable = true)\n",
      " |-- Qtd Hora Contr: double (nullable = true)\n",
      " |-- Idade: double (nullable = true)\n",
      " |-- Ind CEI Vinculado: integer (nullable = true)\n",
      " |-- Ind Simples: integer (nullable = true)\n",
      " |-- Mês Admissão: integer (nullable = true)\n",
      " |-- Mês Desligamento: string (nullable = true)\n",
      " |-- Mun Trab: integer (nullable = true)\n",
      " |-- Município: integer (nullable = true)\n",
      " |-- Nacionalidade: integer (nullable = true)\n",
      " |-- Natureza Jurídica: integer (nullable = true)\n",
      " |-- Ind Portador Defic: integer (nullable = true)\n",
      " |-- Qtd Dias Afastamento: double (nullable = true)\n",
      " |-- Raça Cor: integer (nullable = true)\n",
      " |-- Regiões Adm DF: integer (nullable = true)\n",
      " |-- Vl Remun Dezembro Nom: string (nullable = true)\n",
      " |-- Vl Remun Dezembro (SM): string (nullable = true)\n",
      " |-- Vl Remun Média Nom: string (nullable = true)\n",
      " |-- Vl Remun Média (SM): string (nullable = true)\n",
      " |-- CNAE 2.0 Subclasse: integer (nullable = true)\n",
      " |-- Sexo Trabalhador: double (nullable = true)\n",
      " |-- Tamanho Estabelecimento: integer (nullable = true)\n",
      " |-- Tempo Emprego: string (nullable = true)\n",
      " |-- Tipo Admissão: integer (nullable = true)\n",
      " |-- Tipo Estab41: integer (nullable = true)\n",
      " |-- Tipo Estab42: string (nullable = true)\n",
      " |-- Tipo Defic: integer (nullable = true)\n",
      " |-- Tipo Vínculo: integer (nullable = true)\n",
      " |-- IBGE Subsetor: integer (nullable = true)\n",
      " |-- Vl Rem Janeiro SC: string (nullable = true)\n",
      " |-- Vl Rem Fevereiro SC: string (nullable = true)\n",
      " |-- Vl Rem Março SC: string (nullable = true)\n",
      " |-- Vl Rem Abril SC: string (nullable = true)\n",
      " |-- Vl Rem Maio SC: string (nullable = true)\n",
      " |-- Vl Rem Junho SC: string (nullable = true)\n",
      " |-- Vl Rem Julho SC: string (nullable = true)\n",
      " |-- Vl Rem Agosto SC: string (nullable = true)\n",
      " |-- Vl Rem Setembro SC: string (nullable = true)\n",
      " |-- Vl Rem Outubro SC: string (nullable = true)\n",
      " |-- Vl Rem Novembro SC: string (nullable = true)\n",
      " |-- Ano Chegada Brasil: integer (nullable = true)\n",
      " |-- Ind Trab Intermitente: integer (nullable = true)\n",
      " |-- Ind Trab Parcial: integer (nullable = true)\n",
      " |-- ano: integer (nullable = true)"
     ]
    }
   ],
   "source": [
    "rais = (\n",
    "    spark\n",
    "    .read\n",
    "    .csv(\"s3://datalake-leandrosantana-igti-edc-mod1-desafio/data/\", inferSchema=True, header=True, sep=';', encoding=\"latin1\")\n",
    ")\n",
    "\n",
    "rais.printSchema()"
   ]
  },
  {
   "cell_type": "code",
   "execution_count": 4,
   "id": "e6dd0a9b-79e1-449d-8e37-509075b6e7ba",
   "metadata": {
    "execution": {
     "iopub.execute_input": "2022-03-20T16:34:14.174669Z",
     "iopub.status.busy": "2022-03-20T16:34:14.174327Z",
     "iopub.status.idle": "2022-03-20T16:34:23.498749Z",
     "shell.execute_reply": "2022-03-20T16:34:23.498141Z",
     "shell.execute_reply.started": "2022-03-20T16:34:14.174606Z"
    }
   },
   "outputs": [
    {
     "data": {
      "application/vnd.jupyter.widget-view+json": {
       "model_id": "a26765501cb049d9b0e2fcc232220888",
       "version_major": 2,
       "version_minor": 0
      },
      "text/plain": [
       "VBox()"
      ]
     },
     "metadata": {},
     "output_type": "display_data"
    },
    {
     "data": {
      "application/vnd.jupyter.widget-view+json": {
       "model_id": "",
       "version_major": 2,
       "version_minor": 0
      },
      "text/plain": [
       "FloatProgress(value=0.0, bar_style='info', description='Progress:', layout=Layout(height='25px', width='50%'),…"
      ]
     },
     "metadata": {},
     "output_type": "display_data"
    },
    {
     "name": "stdout",
     "output_type": "stream",
     "text": [
      "+-----------------+\n",
      "|CBO Ocupação 2002|\n",
      "+-----------------+\n",
      "|           632610|\n",
      "|           717020|\n",
      "|           621005|\n",
      "|           784205|\n",
      "|           724315|\n",
      "|           632125|\n",
      "|           642005|\n",
      "|           828110|\n",
      "|           717020|\n",
      "|           784205|\n",
      "+-----------------+\n",
      "only showing top 10 rows"
     ]
    }
   ],
   "source": [
    "rais.select(rais.columns[7]).show(10)"
   ]
  },
  {
   "cell_type": "code",
   "execution_count": 5,
   "id": "364032ec-a617-404d-8f49-4effd2dc9581",
   "metadata": {
    "execution": {
     "iopub.execute_input": "2022-03-20T16:35:38.298462Z",
     "iopub.status.busy": "2022-03-20T16:35:38.298231Z",
     "iopub.status.idle": "2022-03-20T16:35:40.620415Z",
     "shell.execute_reply": "2022-03-20T16:35:40.619802Z",
     "shell.execute_reply.started": "2022-03-20T16:35:38.298437Z"
    }
   },
   "outputs": [
    {
     "data": {
      "application/vnd.jupyter.widget-view+json": {
       "model_id": "034654be6bd24ad5996074fee52e3932",
       "version_major": 2,
       "version_minor": 0
      },
      "text/plain": [
       "VBox()"
      ]
     },
     "metadata": {},
     "output_type": "display_data"
    },
    {
     "data": {
      "application/vnd.jupyter.widget-view+json": {
       "model_id": "",
       "version_major": 2,
       "version_minor": 0
      },
      "text/plain": [
       "FloatProgress(value=0.0, bar_style='info', description='Progress:', layout=Layout(height='25px', width='50%'),…"
      ]
     },
     "metadata": {},
     "output_type": "display_data"
    }
   ],
   "source": [
    "rais = (\n",
    "    rais\n",
    "    .withColumnRenamed('Bairros SP', 'bairros_sp')\n",
    "    .withColumnRenamed('Bairros Fortaleza', 'bairros_fortaleza')\n",
    "    .withColumnRenamed('Bairros RJ', 'bairros_rj')\n",
    "    .withColumnRenamed('Causa Afastamento 1', 'causa_afastamento_1')\n",
    "    .withColumnRenamed('Causa Afastamento 2', 'causa_afastamento_2')\n",
    "    .withColumnRenamed('Causa Afastamento 3', 'causa_afastamento_3')\n",
    "    .withColumnRenamed('Motivo Desligamento', 'motivo_desligamento')\n",
    "    .withColumnRenamed(rais.columns[7], 'cbo_ocupacao_2002')\n",
    "    .withColumnRenamed('CNAE 2.0 Classe', 'cnae_2_0_classe')\n",
    "    .withColumnRenamed('CNAE 95 Classe', 'cnae_95_classe')\n",
    "    .withColumnRenamed('Distritos SP', 'distritos_sp')\n",
    "    .withColumnRenamed(rais.columns[11], 'vinculo_ativo_31_12')\n",
    "    .withColumnRenamed(rais.columns[12], 'faixa_etaria')\n",
    "    .withColumnRenamed('Faixa Hora Contrat', 'faixa_hora_contrat')\n",
    "    .withColumnRenamed('Faixa Remun Dezem (SM)', 'faixa_remun_dezem_sm')\n",
    "    .withColumnRenamed(rais.columns[15], 'faixa_remun_media_sm')\n",
    "    .withColumnRenamed('Faixa Tempo Emprego', 'faixa_tempo_emprego')\n",
    "    .withColumnRenamed(rais.columns[17], 'escolaridade_apos_2005')\n",
    "    .withColumnRenamed('Qtd Hora Contr', 'qtd_hora_contr')\n",
    "    .withColumnRenamed('Idade', 'idade')\n",
    "    .withColumnRenamed('Ind CEI Vinculado', 'ind_cei_vinculado')\n",
    "    .withColumnRenamed('Ind Simples', 'ind_simples')\n",
    "    .withColumnRenamed(rais.columns[22], 'mes_admissao')\n",
    "    .withColumnRenamed(rais.columns[23], 'mes_desligamento')\n",
    "    .withColumnRenamed('Mun Trab', 'mun_trab')\n",
    "    .withColumnRenamed(rais.columns[25], 'municipio')\n",
    "    .withColumnRenamed('Nacionalidade', 'nacionalidade')\n",
    "    .withColumnRenamed(rais.columns[27], 'natureza_juridica')\n",
    "    .withColumnRenamed('Ind Portador Defic', 'ind_portador_defic')\n",
    "    .withColumnRenamed('Qtd Dias Afastamento', 'qtd_dias_afastamento')\n",
    "    .withColumnRenamed(rais.columns[30], 'raca_cor')\n",
    "    .withColumnRenamed(rais.columns[31], 'regioes_adm_df')\n",
    "    .withColumnRenamed('Vl Remun Dezembro Nom', 'vl_remun_dezembro_nom')\n",
    "    .withColumnRenamed('Vl Remun Dezembro (SM)', 'vl_remun_dezembro_sm')\n",
    "    .withColumnRenamed(rais.columns[34], 'vl_remun_media_nom')\n",
    "    .withColumnRenamed(rais.columns[35], 'vl_remun_media_sm')\n",
    "    .withColumnRenamed('CNAE 2.0 Subclasse', 'cnae_2_0_subclasse')\n",
    "    .withColumnRenamed('Sexo Trabalhador', 'sexo_trabalhador')\n",
    "    .withColumnRenamed('Tamanho Estabelecimento', 'tamanho_estabelecimento')\n",
    "    .withColumnRenamed('Tempo Emprego', 'tempo_emprego')\n",
    "    .withColumnRenamed(rais.columns[40], 'tipo_admissao')\n",
    "    .withColumnRenamed('Tipo Estab41', 'tipo_estab41')\n",
    "    .withColumnRenamed('Tipo Estab42', 'tipo_estab42')\n",
    "    .withColumnRenamed('Tipo Defic', 'tipo_defic')\n",
    "    .withColumnRenamed(rais.columns[44], 'tipo_vinculo')\n",
    "    .withColumnRenamed('IBGE Subsetor', 'ibge_subsetor')\n",
    "    .withColumnRenamed('Vl Rem Janeiro SC', 'vl_rem_janeiro_sc')\n",
    "    .withColumnRenamed('Vl Rem Fevereiro SC', 'vl_rem_fevereiro_sc')\n",
    "    .withColumnRenamed(rais.columns[48], 'vl_rem_marco_sc')\n",
    "    .withColumnRenamed('Vl Rem Abril SC', 'vl_rem_abril_sc')\n",
    "    .withColumnRenamed('Vl Rem Maio SC', 'vl_rem_maio_sc')\n",
    "    .withColumnRenamed('Vl Rem Junho SC', 'vl_rem_junho_sc')\n",
    "    .withColumnRenamed('Vl Rem Julho SC', 'vl_rem_julho_sc')\n",
    "    .withColumnRenamed('Vl Rem Agosto SC', 'vl_rem_agosto_sc')\n",
    "    .withColumnRenamed('Vl Rem Setembro SC', 'vl_rem_setembro_sc')\n",
    "    .withColumnRenamed('Vl Rem Outubro SC', 'vl_rem_outubro_sc')\n",
    "    .withColumnRenamed('Vl Rem Novembro SC', 'vl_rem_novembro_sc')\n",
    "    .withColumnRenamed('Ano Chegada Brasil', 'ano_chegada_brasil')\n",
    "    .withColumnRenamed('Ind Trab Intermitente', 'ind_trab_intermitente')\n",
    "    .withColumnRenamed('Ind Trab Parcial', 'ind_trab_parcial')\n",
    ")"
   ]
  },
  {
   "cell_type": "code",
   "execution_count": 6,
   "id": "46dbb1d2-8b38-405f-a42d-993b8f10b2e9",
   "metadata": {
    "execution": {
     "iopub.execute_input": "2022-03-20T16:38:31.589582Z",
     "iopub.status.busy": "2022-03-20T16:38:31.589351Z",
     "iopub.status.idle": "2022-03-20T16:38:31.655715Z",
     "shell.execute_reply": "2022-03-20T16:38:31.654991Z",
     "shell.execute_reply.started": "2022-03-20T16:38:31.589558Z"
    }
   },
   "outputs": [
    {
     "data": {
      "application/vnd.jupyter.widget-view+json": {
       "model_id": "fbb355df6a5f4177a282a3eea3d5ab0d",
       "version_major": 2,
       "version_minor": 0
      },
      "text/plain": [
       "VBox()"
      ]
     },
     "metadata": {},
     "output_type": "display_data"
    },
    {
     "data": {
      "application/vnd.jupyter.widget-view+json": {
       "model_id": "",
       "version_major": 2,
       "version_minor": 0
      },
      "text/plain": [
       "FloatProgress(value=0.0, bar_style='info', description='Progress:', layout=Layout(height='25px', width='50%'),…"
      ]
     },
     "metadata": {},
     "output_type": "display_data"
    },
    {
     "name": "stdout",
     "output_type": "stream",
     "text": [
      "root\n",
      " |-- bairros_sp: string (nullable = true)\n",
      " |-- bairros_fortaleza: string (nullable = true)\n",
      " |-- bairros_rj: string (nullable = true)\n",
      " |-- causa_afastamento_1: integer (nullable = true)\n",
      " |-- causa_afastamento_2: integer (nullable = true)\n",
      " |-- causa_afastamento_3: integer (nullable = true)\n",
      " |-- motivo_desligamento: integer (nullable = true)\n",
      " |-- cbo_ocupacao_2002: string (nullable = true)\n",
      " |-- cnae_2_0_classe: integer (nullable = true)\n",
      " |-- cnae_95_classe: integer (nullable = true)\n",
      " |-- distritos_sp: string (nullable = true)\n",
      " |-- vinculo_ativo_31_12: integer (nullable = true)\n",
      " |-- faixa_etaria: integer (nullable = true)\n",
      " |-- faixa_hora_contrat: integer (nullable = true)\n",
      " |-- faixa_remun_dezem_sm: integer (nullable = true)\n",
      " |-- faixa_remun_media_sm: integer (nullable = true)\n",
      " |-- faixa_tempo_emprego: integer (nullable = true)\n",
      " |-- escolaridade_apos_2005: double (nullable = true)\n",
      " |-- qtd_hora_contr: double (nullable = true)\n",
      " |-- idade: double (nullable = true)\n",
      " |-- ind_cei_vinculado: integer (nullable = true)\n",
      " |-- ind_simples: integer (nullable = true)\n",
      " |-- mes_admissao: integer (nullable = true)\n",
      " |-- mes_desligamento: string (nullable = true)\n",
      " |-- mun_trab: integer (nullable = true)\n",
      " |-- municipio: integer (nullable = true)\n",
      " |-- nacionalidade: integer (nullable = true)\n",
      " |-- natureza_juridica: integer (nullable = true)\n",
      " |-- ind_portador_defic: integer (nullable = true)\n",
      " |-- qtd_dias_afastamento: double (nullable = true)\n",
      " |-- raca_cor: integer (nullable = true)\n",
      " |-- regioes_adm_df: integer (nullable = true)\n",
      " |-- vl_remun_dezembro_nom: string (nullable = true)\n",
      " |-- vl_remun_dezembro_sm: string (nullable = true)\n",
      " |-- vl_remun_media_nom: string (nullable = true)\n",
      " |-- vl_remun_media_sm: string (nullable = true)\n",
      " |-- cnae_2_0_subclasse: integer (nullable = true)\n",
      " |-- sexo_trabalhador: double (nullable = true)\n",
      " |-- tamanho_estabelecimento: integer (nullable = true)\n",
      " |-- tempo_emprego: string (nullable = true)\n",
      " |-- tipo_admissao: integer (nullable = true)\n",
      " |-- tipo_estab41: integer (nullable = true)\n",
      " |-- tipo_estab42: string (nullable = true)\n",
      " |-- tipo_defic: integer (nullable = true)\n",
      " |-- tipo_vinculo: integer (nullable = true)\n",
      " |-- ibge_subsetor: integer (nullable = true)\n",
      " |-- vl_rem_janeiro_sc: string (nullable = true)\n",
      " |-- vl_rem_fevereiro_sc: string (nullable = true)\n",
      " |-- vl_rem_marco_sc: string (nullable = true)\n",
      " |-- vl_rem_abril_sc: string (nullable = true)\n",
      " |-- vl_rem_maio_sc: string (nullable = true)\n",
      " |-- vl_rem_junho_sc: string (nullable = true)\n",
      " |-- vl_rem_julho_sc: string (nullable = true)\n",
      " |-- vl_rem_agosto_sc: string (nullable = true)\n",
      " |-- vl_rem_setembro_sc: string (nullable = true)\n",
      " |-- vl_rem_outubro_sc: string (nullable = true)\n",
      " |-- vl_rem_novembro_sc: string (nullable = true)\n",
      " |-- ano_chegada_brasil: integer (nullable = true)\n",
      " |-- ind_trab_intermitente: integer (nullable = true)\n",
      " |-- ind_trab_parcial: integer (nullable = true)\n",
      " |-- ano: integer (nullable = true)"
     ]
    }
   ],
   "source": [
    "rais.printSchema()"
   ]
  },
  {
   "cell_type": "code",
   "execution_count": 7,
   "id": "bda1c3b6-d264-4bdd-93ba-f830e949d846",
   "metadata": {
    "execution": {
     "iopub.execute_input": "2022-03-20T16:39:12.075912Z",
     "iopub.status.busy": "2022-03-20T16:39:12.075662Z",
     "iopub.status.idle": "2022-03-20T16:39:12.348856Z",
     "shell.execute_reply": "2022-03-20T16:39:12.348137Z",
     "shell.execute_reply.started": "2022-03-20T16:39:12.075886Z"
    }
   },
   "outputs": [
    {
     "data": {
      "application/vnd.jupyter.widget-view+json": {
       "model_id": "ce3d45f71d90455caf1d60764ad9cb74",
       "version_major": 2,
       "version_minor": 0
      },
      "text/plain": [
       "VBox()"
      ]
     },
     "metadata": {},
     "output_type": "display_data"
    },
    {
     "data": {
      "application/vnd.jupyter.widget-view+json": {
       "model_id": "",
       "version_major": 2,
       "version_minor": 0
      },
      "text/plain": [
       "FloatProgress(value=0.0, bar_style='info', description='Progress:', layout=Layout(height='25px', width='50%'),…"
      ]
     },
     "metadata": {},
     "output_type": "display_data"
    }
   ],
   "source": [
    "rais = rais.withColumn(\"uf\", f.col(\"municipio\").cast('string').substr(1,2).cast('int'))"
   ]
  },
  {
   "cell_type": "code",
   "execution_count": 9,
   "id": "8d3403fc-c9c5-422c-a595-0def8f04f6ca",
   "metadata": {
    "execution": {
     "iopub.execute_input": "2022-03-20T16:40:12.373048Z",
     "iopub.status.busy": "2022-03-20T16:40:12.372816Z",
     "iopub.status.idle": "2022-03-20T16:40:13.150662Z",
     "shell.execute_reply": "2022-03-20T16:40:13.149939Z",
     "shell.execute_reply.started": "2022-03-20T16:40:12.373024Z"
    },
    "tags": []
   },
   "outputs": [
    {
     "data": {
      "application/vnd.jupyter.widget-view+json": {
       "model_id": "a202870ab31644838e78a625723aee72",
       "version_major": 2,
       "version_minor": 0
      },
      "text/plain": [
       "VBox()"
      ]
     },
     "metadata": {},
     "output_type": "display_data"
    },
    {
     "data": {
      "application/vnd.jupyter.widget-view+json": {
       "model_id": "",
       "version_major": 2,
       "version_minor": 0
      },
      "text/plain": [
       "FloatProgress(value=0.0, bar_style='info', description='Progress:', layout=Layout(height='25px', width='50%'),…"
      ]
     },
     "metadata": {},
     "output_type": "display_data"
    }
   ],
   "source": [
    "rais = (\n",
    "    rais\n",
    "    .withColumn(\"mes_desligamento\", f.col('mes_desligamento').cast('int'))\n",
    "    .withColumn(\"vl_remun_dezembro_nom\", f.regexp_replace(\"vl_remun_dezembro_nom\", ',', '.').cast('double'))\n",
    "    .withColumn(\"vl_remun_dezembro_sm\", f.regexp_replace(\"vl_remun_dezembro_sm\", ',', '.').cast('double'))\n",
    "    .withColumn(\"vl_remun_media_nom\", f.regexp_replace(\"vl_remun_media_nom\", ',', '.').cast('double'))\n",
    "    .withColumn(\"vl_remun_media_sm\", f.regexp_replace(\"vl_remun_media_sm\", ',', '.').cast('double'))\n",
    "    .withColumn(\"vl_rem_janeiro_sc\", f.regexp_replace(\"vl_rem_janeiro_sc\", ',', '.').cast('double'))\n",
    "    .withColumn(\"vl_rem_fevereiro_sc\", f.regexp_replace(\"vl_rem_fevereiro_sc\", ',', '.').cast('double'))\n",
    "    .withColumn(\"vl_rem_marco_sc\", f.regexp_replace(\"vl_rem_marco_sc\", ',', '.').cast('double'))\n",
    "    .withColumn(\"vl_rem_abril_sc\", f.regexp_replace(\"vl_rem_abril_sc\", ',', '.').cast('double'))\n",
    "    .withColumn(\"vl_rem_maio_sc\", f.regexp_replace(\"vl_rem_maio_sc\", ',', '.').cast('double'))\n",
    "    .withColumn(\"vl_rem_junho_sc\", f.regexp_replace(\"vl_rem_junho_sc\", ',', '.').cast('double'))\n",
    "    .withColumn(\"vl_rem_julho_sc\", f.regexp_replace(\"vl_rem_julho_sc\", ',', '.').cast('double'))\n",
    "    .withColumn(\"vl_rem_agosto_sc\", f.regexp_replace(\"vl_rem_agosto_sc\", ',', '.').cast('double'))\n",
    "    .withColumn(\"vl_rem_setembro_sc\", f.regexp_replace(\"vl_rem_setembro_sc\", ',', '.').cast('double'))\n",
    "    .withColumn(\"vl_rem_outubro_sc\", f.regexp_replace(\"vl_rem_outubro_sc\", ',', '.').cast('double'))\n",
    "    .withColumn(\"vl_rem_novembro_sc\", f.regexp_replace(\"vl_rem_novembro_sc\", ',', '.').cast('double'))\n",
    ")"
   ]
  },
  {
   "cell_type": "code",
   "execution_count": 10,
   "id": "d714014d-adba-417c-9add-710a1da45be6",
   "metadata": {
    "execution": {
     "iopub.execute_input": "2022-03-20T16:41:19.272178Z",
     "iopub.status.busy": "2022-03-20T16:41:19.271957Z",
     "iopub.status.idle": "2022-03-20T17:03:08.704868Z",
     "shell.execute_reply": "2022-03-20T17:03:08.704141Z",
     "shell.execute_reply.started": "2022-03-20T16:41:19.272156Z"
    }
   },
   "outputs": [
    {
     "data": {
      "application/vnd.jupyter.widget-view+json": {
       "model_id": "bfe37e5da4494781a23801db0a25b29f",
       "version_major": 2,
       "version_minor": 0
      },
      "text/plain": [
       "VBox()"
      ]
     },
     "metadata": {},
     "output_type": "display_data"
    },
    {
     "data": {
      "application/vnd.jupyter.widget-view+json": {
       "model_id": "",
       "version_major": 2,
       "version_minor": 0
      },
      "text/plain": [
       "FloatProgress(value=0.0, bar_style='info', description='Progress:', layout=Layout(height='25px', width='50%'),…"
      ]
     },
     "metadata": {},
     "output_type": "display_data"
    }
   ],
   "source": [
    "(\n",
    "    rais\n",
    "    .coalesce(50)\n",
    "    .write.mode('overwrite')\n",
    "    .partitionBy('ano', 'uf')\n",
    "    .format('parquet')\n",
    "    .save('s3://datalake-leandrosantana-igti-edc-mod1-desafio-staging/ano=2020/')\n",
    ")"
   ]
  },
  {
   "cell_type": "code",
   "execution_count": 11,
   "id": "c58dd56e-3eb9-4c98-9e75-8ea00149cd9c",
   "metadata": {
    "execution": {
     "iopub.execute_input": "2022-03-20T17:05:44.423174Z",
     "iopub.status.busy": "2022-03-20T17:05:44.422901Z",
     "iopub.status.idle": "2022-03-20T17:09:22.380645Z",
     "shell.execute_reply": "2022-03-20T17:09:22.379959Z",
     "shell.execute_reply.started": "2022-03-20T17:05:44.423147Z"
    }
   },
   "outputs": [
    {
     "data": {
      "application/vnd.jupyter.widget-view+json": {
       "model_id": "77e2b5e800b344bb805bdce24b0d2493",
       "version_major": 2,
       "version_minor": 0
      },
      "text/plain": [
       "VBox()"
      ]
     },
     "metadata": {},
     "output_type": "display_data"
    },
    {
     "data": {
      "application/vnd.jupyter.widget-view+json": {
       "model_id": "",
       "version_major": 2,
       "version_minor": 0
      },
      "text/plain": [
       "FloatProgress(value=0.0, bar_style='info', description='Progress:', layout=Layout(height='25px', width='50%'),…"
      ]
     },
     "metadata": {},
     "output_type": "display_data"
    },
    {
     "name": "stdout",
     "output_type": "stream",
     "text": [
      "+---------------+--------+\n",
      "|cnae_2_0_classe|count(1)|\n",
      "+---------------+--------+\n",
      "|          45307|  576273|\n",
      "|           1342|  154196|\n",
      "|          93131|  132100|\n",
      "|          20134|   44886|\n",
      "|          68218|   74872|\n",
      "|          23303|  152274|\n",
      "|          95118|   46241|\n",
      "|          47415|   53008|\n",
      "|           7103|   67086|\n",
      "|          59146|   17891|\n",
      "|          84230|  279805|\n",
      "|          25217|   10972|\n",
      "|          77390|   75475|\n",
      "|          27104|   49240|\n",
      "|          64212|   23991|\n",
      "|          78108|  108931|\n",
      "|          47822|  275807|\n",
      "|          13111|   29862|\n",
      "|          49302| 1469572|\n",
      "|          63992|   15857|\n",
      "|          28224|   24264|\n",
      "|          22218|   22719|\n",
      "|          24237|   32632|\n",
      "|          50114|    4185|\n",
      "|          65308|     841|\n",
      "|           3116|   12273|\n",
      "|          26809|      26|\n",
      "|          52222|    8437|\n",
      "|          55108|  431708|\n",
      "|          47113| 2092187|\n",
      "|          52397|    3366|\n",
      "|          28232|   26418|\n",
      "|          47130|  244710|\n",
      "|          27406|   13090|\n",
      "|          10627|   31911|\n",
      "|          71111|   12749|\n",
      "|          64239|  105172|\n",
      "|          47512|  127207|\n",
      "|          32914|   10033|\n",
      "|          69125|   96209|\n",
      "|          77403|   18507|\n",
      "|          46435|   10333|\n",
      "|          10520|  114406|\n",
      "|          15319|  178965|\n",
      "|          18211|   14471|\n",
      "|          68102|   74863|\n",
      "|          18121|   10491|\n",
      "|          28241|    8728|\n",
      "|          49124|   39019|\n",
      "|          66118|    2302|\n",
      "+---------------+--------+\n",
      "only showing top 50 rows"
     ]
    }
   ],
   "source": [
    "rais.groupby('cnae_2_0_classe').agg(f.count(f.lit(1))).show(50)"
   ]
  },
  {
   "cell_type": "code",
   "execution_count": 12,
   "id": "d655dcbc-a9b8-48a6-9274-e81bd6441c9c",
   "metadata": {
    "execution": {
     "iopub.execute_input": "2022-03-20T17:10:25.889325Z",
     "iopub.status.busy": "2022-03-20T17:10:25.889064Z",
     "iopub.status.idle": "2022-03-20T17:10:25.941538Z",
     "shell.execute_reply": "2022-03-20T17:10:25.940874Z",
     "shell.execute_reply.started": "2022-03-20T17:10:25.889299Z"
    }
   },
   "outputs": [
    {
     "data": {
      "application/vnd.jupyter.widget-view+json": {
       "model_id": "5479e671785747ba8bd707a1dee593d5",
       "version_major": 2,
       "version_minor": 0
      },
      "text/plain": [
       "VBox()"
      ]
     },
     "metadata": {},
     "output_type": "display_data"
    },
    {
     "data": {
      "application/vnd.jupyter.widget-view+json": {
       "model_id": "",
       "version_major": 2,
       "version_minor": 0
      },
      "text/plain": [
       "FloatProgress(value=0.0, bar_style='info', description='Progress:', layout=Layout(height='25px', width='50%'),…"
      ]
     },
     "metadata": {},
     "output_type": "display_data"
    },
    {
     "name": "stdout",
     "output_type": "stream",
     "text": [
      "root\n",
      " |-- bairros_sp: string (nullable = true)\n",
      " |-- bairros_fortaleza: string (nullable = true)\n",
      " |-- bairros_rj: string (nullable = true)\n",
      " |-- causa_afastamento_1: integer (nullable = true)\n",
      " |-- causa_afastamento_2: integer (nullable = true)\n",
      " |-- causa_afastamento_3: integer (nullable = true)\n",
      " |-- motivo_desligamento: integer (nullable = true)\n",
      " |-- cbo_ocupacao_2002: string (nullable = true)\n",
      " |-- cnae_2_0_classe: integer (nullable = true)\n",
      " |-- cnae_95_classe: integer (nullable = true)\n",
      " |-- distritos_sp: string (nullable = true)\n",
      " |-- vinculo_ativo_31_12: integer (nullable = true)\n",
      " |-- faixa_etaria: integer (nullable = true)\n",
      " |-- faixa_hora_contrat: integer (nullable = true)\n",
      " |-- faixa_remun_dezem_sm: integer (nullable = true)\n",
      " |-- faixa_remun_media_sm: integer (nullable = true)\n",
      " |-- faixa_tempo_emprego: integer (nullable = true)\n",
      " |-- escolaridade_apos_2005: double (nullable = true)\n",
      " |-- qtd_hora_contr: double (nullable = true)\n",
      " |-- idade: double (nullable = true)\n",
      " |-- ind_cei_vinculado: integer (nullable = true)\n",
      " |-- ind_simples: integer (nullable = true)\n",
      " |-- mes_admissao: integer (nullable = true)\n",
      " |-- mes_desligamento: integer (nullable = true)\n",
      " |-- mun_trab: integer (nullable = true)\n",
      " |-- municipio: integer (nullable = true)\n",
      " |-- nacionalidade: integer (nullable = true)\n",
      " |-- natureza_juridica: integer (nullable = true)\n",
      " |-- ind_portador_defic: integer (nullable = true)\n",
      " |-- qtd_dias_afastamento: double (nullable = true)\n",
      " |-- raca_cor: integer (nullable = true)\n",
      " |-- regioes_adm_df: integer (nullable = true)\n",
      " |-- vl_remun_dezembro_nom: double (nullable = true)\n",
      " |-- vl_remun_dezembro_sm: double (nullable = true)\n",
      " |-- vl_remun_media_nom: double (nullable = true)\n",
      " |-- vl_remun_media_sm: double (nullable = true)\n",
      " |-- cnae_2_0_subclasse: integer (nullable = true)\n",
      " |-- sexo_trabalhador: double (nullable = true)\n",
      " |-- tamanho_estabelecimento: integer (nullable = true)\n",
      " |-- tempo_emprego: string (nullable = true)\n",
      " |-- tipo_admissao: integer (nullable = true)\n",
      " |-- tipo_estab41: integer (nullable = true)\n",
      " |-- tipo_estab42: string (nullable = true)\n",
      " |-- tipo_defic: integer (nullable = true)\n",
      " |-- tipo_vinculo: integer (nullable = true)\n",
      " |-- ibge_subsetor: integer (nullable = true)\n",
      " |-- vl_rem_janeiro_sc: double (nullable = true)\n",
      " |-- vl_rem_fevereiro_sc: double (nullable = true)\n",
      " |-- vl_rem_marco_sc: double (nullable = true)\n",
      " |-- vl_rem_abril_sc: double (nullable = true)\n",
      " |-- vl_rem_maio_sc: double (nullable = true)\n",
      " |-- vl_rem_junho_sc: double (nullable = true)\n",
      " |-- vl_rem_julho_sc: double (nullable = true)\n",
      " |-- vl_rem_agosto_sc: double (nullable = true)\n",
      " |-- vl_rem_setembro_sc: double (nullable = true)\n",
      " |-- vl_rem_outubro_sc: double (nullable = true)\n",
      " |-- vl_rem_novembro_sc: double (nullable = true)\n",
      " |-- ano_chegada_brasil: integer (nullable = true)\n",
      " |-- ind_trab_intermitente: integer (nullable = true)\n",
      " |-- ind_trab_parcial: integer (nullable = true)\n",
      " |-- ano: integer (nullable = true)\n",
      " |-- uf: integer (nullable = true)"
     ]
    }
   ],
   "source": [
    "rais.printSchema()"
   ]
  },
  {
   "cell_type": "code",
   "execution_count": 15,
   "id": "a5fd87d2-2301-4def-82dc-e30ab85b938d",
   "metadata": {
    "execution": {
     "iopub.execute_input": "2022-03-20T17:12:13.028778Z",
     "iopub.status.busy": "2022-03-20T17:12:13.028528Z",
     "iopub.status.idle": "2022-03-20T17:15:44.952873Z",
     "shell.execute_reply": "2022-03-20T17:15:44.952075Z",
     "shell.execute_reply.started": "2022-03-20T17:12:13.028751Z"
    },
    "tags": []
   },
   "outputs": [
    {
     "data": {
      "application/vnd.jupyter.widget-view+json": {
       "model_id": "5d08aa35595249a6b42c12886dd0c9f1",
       "version_major": 2,
       "version_minor": 0
      },
      "text/plain": [
       "VBox()"
      ]
     },
     "metadata": {},
     "output_type": "display_data"
    },
    {
     "data": {
      "application/vnd.jupyter.widget-view+json": {
       "model_id": "",
       "version_major": 2,
       "version_minor": 0
      },
      "text/plain": [
       "FloatProgress(value=0.0, bar_style='info', description='Progress:', layout=Layout(height='25px', width='50%'),…"
      ]
     },
     "metadata": {},
     "output_type": "display_data"
    },
    {
     "name": "stdout",
     "output_type": "stream",
     "text": [
      "+-------------------+--------+\n",
      "|motivo_desligamento|count(1)|\n",
      "+-------------------+--------+\n",
      "|                 76|    3954|\n",
      "|                 12| 3606086|\n",
      "|                 64|      91|\n",
      "|                 90|  186095|\n",
      "|                 60|   89003|\n",
      "|                 11| 9771002|\n",
      "|                 33|    1642|\n",
      "|                 74|     959|\n",
      "|                 31| 1439716|\n",
      "|                 34|    3624|\n",
      "|                 70|   61576|\n",
      "|                 21| 4097890|\n",
      "|                 30|   46149|\n",
      "|                 20|   39579|\n",
      "|                 50|   15606|\n",
      "|                 80|    1052|\n",
      "|                 75|   35669|\n",
      "|                 79|    2787|\n",
      "|                 78|    3890|\n",
      "|                 40|    1105|\n",
      "+-------------------+--------+\n",
      "only showing top 20 rows"
     ]
    }
   ],
   "source": [
    "rais.groupby('motivo_desligamento').agg(f.count(f.lit(1))).show()"
   ]
  },
  {
   "cell_type": "code",
   "execution_count": 19,
   "id": "19fee235-78f4-49a4-870d-b83333c9b600",
   "metadata": {
    "execution": {
     "iopub.execute_input": "2022-03-20T17:24:51.766561Z",
     "iopub.status.busy": "2022-03-20T17:24:51.766314Z",
     "iopub.status.idle": "2022-03-20T17:28:15.624807Z",
     "shell.execute_reply": "2022-03-20T17:28:15.623938Z",
     "shell.execute_reply.started": "2022-03-20T17:24:51.766537Z"
    },
    "tags": []
   },
   "outputs": [
    {
     "data": {
      "application/vnd.jupyter.widget-view+json": {
       "model_id": "1867b5bc4bee499b80972fe37588ec1e",
       "version_major": 2,
       "version_minor": 0
      },
      "text/plain": [
       "VBox()"
      ]
     },
     "metadata": {},
     "output_type": "display_data"
    },
    {
     "data": {
      "application/vnd.jupyter.widget-view+json": {
       "model_id": "",
       "version_major": 2,
       "version_minor": 0
      },
      "text/plain": [
       "FloatProgress(value=0.0, bar_style='info', description='Progress:', layout=Layout(height='25px', width='50%'),…"
      ]
     },
     "metadata": {},
     "output_type": "display_data"
    },
    {
     "name": "stdout",
     "output_type": "stream",
     "text": [
      "+---+-----------------------+\n",
      "| uf|avg(vl_remun_media_nom)|\n",
      "+---+-----------------------+\n",
      "| 12|     2658.4066067570147|\n",
      "| 35|      2854.950994086189|\n",
      "| 33|       2976.29327026399|\n",
      "| 11|       2356.20924008151|\n",
      "| 31|     2220.0121298169283|\n",
      "| 53|      4454.921351989693|\n",
      "| 23|     2093.3808324377583|\n",
      "| 51|      2420.944166388051|\n",
      "| 21|     2259.8691615427465|\n",
      "| 52|      2297.102935298929|\n",
      "| 14|     2748.4508343915277|\n",
      "| 16|     3403.5848835592583|\n",
      "| 15|     2415.2186793452465|\n",
      "| 43|      2524.516563886805|\n",
      "| 50|      2399.461981593553|\n",
      "| 25|     2052.4934551983424|\n",
      "| 24|      2225.842302127411|\n",
      "| 27|     2052.9983235343625|\n",
      "| 28|     2340.9453186904957|\n",
      "| 13|     2532.6492588971673|\n",
      "| 17|      2510.981523246122|\n",
      "| 29|     2233.8712775002573|\n",
      "| 42|     2313.5390274282545|\n",
      "| 26|      2185.521200735349|\n",
      "| 22|     2209.3577016402683|\n",
      "| 41|     2403.4470560818568|\n",
      "| 32|     2319.8968306897627|\n",
      "+---+-----------------------+"
     ]
    }
   ],
   "source": [
    "rais.groupby('uf').agg(f.avg('vl_remun_media_nom')).show(50)"
   ]
  },
  {
   "cell_type": "code",
   "execution_count": null,
   "id": "dd089e54-2d33-48a1-b796-b69d6af3cb39",
   "metadata": {},
   "outputs": [],
   "source": [
    "rais.groupby('uf').agg(f.avg('vl_remun_media_nom')).show()"
   ]
  }
 ],
 "metadata": {
  "kernelspec": {
   "display_name": "PySpark",
   "language": "",
   "name": "pysparkkernel"
  },
  "language_info": {
   "codemirror_mode": {
    "name": "python",
    "version": 3
   },
   "mimetype": "text/x-python",
   "name": "pyspark",
   "pygments_lexer": "python3"
  }
 },
 "nbformat": 4,
 "nbformat_minor": 5
}
